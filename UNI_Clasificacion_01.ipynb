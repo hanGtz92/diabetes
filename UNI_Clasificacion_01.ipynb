{
  "nbformat": 4,
  "nbformat_minor": 0,
  "metadata": {
    "colab": {
      "name": "UNI_Clasificacion_01.ipynb",
      "provenance": [],
      "collapsed_sections": [],
      "include_colab_link": true
    },
    "kernelspec": {
      "name": "python3",
      "display_name": "Python 3"
    }
  },
  "cells": [
    {
      "cell_type": "markdown",
      "metadata": {
        "id": "view-in-github",
        "colab_type": "text"
      },
      "source": [
        "<a href=\"https://colab.research.google.com/github/hanGtz92/diabetes/blob/main/UNI_Clasificacion_01.ipynb\" target=\"_parent\"><img src=\"https://colab.research.google.com/assets/colab-badge.svg\" alt=\"Open In Colab\"/></a>"
      ]
    },
    {
      "cell_type": "markdown",
      "metadata": {
        "id": "jFuwnHW6ZvAt"
      },
      "source": [
        "<center>\n",
        "\n",
        "![Captura de Pantalla 2021-08-16 a la(s) 23.25.35.png](data:image/png;base64,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)\n",
        "\n",
        "</center>"
      ]
    },
    {
      "cell_type": "markdown",
      "metadata": {
        "id": "mYu0GIvsZu4v"
      },
      "source": [
        "<h1><b>\n",
        "Dirección de Estudios de Posgrado y Educación Continua\n",
        "<h2><b>\n",
        "Analítica Predictiva y Machine Learning con R, Python y Databricks"
      ]
    },
    {
      "cell_type": "markdown",
      "metadata": {
        "id": "EGlHocOwZuvu"
      },
      "source": [
        "[UNI-DEPEC](https://posgrado.uni.edu.ni)"
      ]
    },
    {
      "cell_type": "markdown",
      "metadata": {
        "id": "foQ5wPXaaGEs"
      },
      "source": [
        "<h1><b>\n",
        "Clasificación"
      ]
    },
    {
      "cell_type": "markdown",
      "metadata": {
        "id": "aFDMU-W_5qMZ"
      },
      "source": [
        "## Carga de librerías necesarias"
      ]
    },
    {
      "cell_type": "code",
      "metadata": {
        "id": "dgWMRzBsCfMf"
      },
      "source": [
        "import pandas as pd #para la creación del dataframe y limpieza de los datos\n",
        "import sklearn #para los algoritmos de aprendizaje automático\n",
        "import sklearn.metrics as metrics #para la medición de los algoritmos\n",
        "import matplotlib.pyplot as plt #librería gráfica básica\n",
        "import pickle #para grabar y recuperar los modelos entrenados\n",
        "import os"
      ],
      "execution_count": null,
      "outputs": []
    },
    {
      "cell_type": "markdown",
      "metadata": {
        "id": "HI0cSe3QH_iK"
      },
      "source": [
        "## Ingeniería de las características de los Datos"
      ]
    },
    {
      "cell_type": "markdown",
      "metadata": {
        "id": "QhP9QDanakVE"
      },
      "source": [
        "### Extracción de Datos - Creación del DataFrame"
      ]
    },
    {
      "cell_type": "code",
      "metadata": {
        "id": "G8vmNkoHasus"
      },
      "source": [
        "url = \"https://raw.githubusercontent.com/cristiandarioortegayubro/UNI/main/\""
      ],
      "execution_count": null,
      "outputs": []
    },
    {
      "cell_type": "code",
      "metadata": {
        "id": "XQMn0L3ZgaOF"
      },
      "source": [
        "archivo = \"clientes.csv\""
      ],
      "execution_count": null,
      "outputs": []
    },
    {
      "cell_type": "code",
      "metadata": {
        "colab": {
          "base_uri": "https://localhost:8080/",
          "height": 419
        },
        "id": "w1CY0Bo-b1Nh",
        "outputId": "4d5253b1-c5aa-4645-f74c-5cba0b83d4aa"
      },
      "source": [
        "clientes = pd.read_csv(url+archivo) #los datos están separados por comas\n",
        "clientes = clientes.drop(columns=\"Unnamed: 0\")\n",
        "clientes #vista del dataframe"
      ],
      "execution_count": null,
      "outputs": [
        {
          "output_type": "execute_result",
          "data": {
            "text/html": [
              "<div>\n",
              "<style scoped>\n",
              "    .dataframe tbody tr th:only-of-type {\n",
              "        vertical-align: middle;\n",
              "    }\n",
              "\n",
              "    .dataframe tbody tr th {\n",
              "        vertical-align: top;\n",
              "    }\n",
              "\n",
              "    .dataframe thead th {\n",
              "        text-align: right;\n",
              "    }\n",
              "</style>\n",
              "<table border=\"1\" class=\"dataframe\">\n",
              "  <thead>\n",
              "    <tr style=\"text-align: right;\">\n",
              "      <th></th>\n",
              "      <th>ID</th>\n",
              "      <th>Trabajo</th>\n",
              "      <th>Edad</th>\n",
              "      <th>Salario</th>\n",
              "      <th>Compra</th>\n",
              "    </tr>\n",
              "  </thead>\n",
              "  <tbody>\n",
              "    <tr>\n",
              "      <th>0</th>\n",
              "      <td>0</td>\n",
              "      <td>1</td>\n",
              "      <td>19</td>\n",
              "      <td>19000</td>\n",
              "      <td>No</td>\n",
              "    </tr>\n",
              "    <tr>\n",
              "      <th>1</th>\n",
              "      <td>1</td>\n",
              "      <td>1</td>\n",
              "      <td>35</td>\n",
              "      <td>20000</td>\n",
              "      <td>No</td>\n",
              "    </tr>\n",
              "    <tr>\n",
              "      <th>2</th>\n",
              "      <td>2</td>\n",
              "      <td>0</td>\n",
              "      <td>26</td>\n",
              "      <td>43000</td>\n",
              "      <td>No</td>\n",
              "    </tr>\n",
              "    <tr>\n",
              "      <th>3</th>\n",
              "      <td>3</td>\n",
              "      <td>0</td>\n",
              "      <td>27</td>\n",
              "      <td>57000</td>\n",
              "      <td>No</td>\n",
              "    </tr>\n",
              "    <tr>\n",
              "      <th>4</th>\n",
              "      <td>4</td>\n",
              "      <td>1</td>\n",
              "      <td>19</td>\n",
              "      <td>76000</td>\n",
              "      <td>No</td>\n",
              "    </tr>\n",
              "    <tr>\n",
              "      <th>...</th>\n",
              "      <td>...</td>\n",
              "      <td>...</td>\n",
              "      <td>...</td>\n",
              "      <td>...</td>\n",
              "      <td>...</td>\n",
              "    </tr>\n",
              "    <tr>\n",
              "      <th>395</th>\n",
              "      <td>395</td>\n",
              "      <td>0</td>\n",
              "      <td>46</td>\n",
              "      <td>41000</td>\n",
              "      <td>Si</td>\n",
              "    </tr>\n",
              "    <tr>\n",
              "      <th>396</th>\n",
              "      <td>396</td>\n",
              "      <td>1</td>\n",
              "      <td>51</td>\n",
              "      <td>23000</td>\n",
              "      <td>Si</td>\n",
              "    </tr>\n",
              "    <tr>\n",
              "      <th>397</th>\n",
              "      <td>397</td>\n",
              "      <td>0</td>\n",
              "      <td>50</td>\n",
              "      <td>20000</td>\n",
              "      <td>Si</td>\n",
              "    </tr>\n",
              "    <tr>\n",
              "      <th>398</th>\n",
              "      <td>398</td>\n",
              "      <td>1</td>\n",
              "      <td>36</td>\n",
              "      <td>33000</td>\n",
              "      <td>No</td>\n",
              "    </tr>\n",
              "    <tr>\n",
              "      <th>399</th>\n",
              "      <td>399</td>\n",
              "      <td>0</td>\n",
              "      <td>49</td>\n",
              "      <td>36000</td>\n",
              "      <td>Si</td>\n",
              "    </tr>\n",
              "  </tbody>\n",
              "</table>\n",
              "<p>400 rows × 5 columns</p>\n",
              "</div>"
            ],
            "text/plain": [
              "      ID  Trabajo  Edad  Salario Compra\n",
              "0      0        1    19    19000     No\n",
              "1      1        1    35    20000     No\n",
              "2      2        0    26    43000     No\n",
              "3      3        0    27    57000     No\n",
              "4      4        1    19    76000     No\n",
              "..   ...      ...   ...      ...    ...\n",
              "395  395        0    46    41000     Si\n",
              "396  396        1    51    23000     Si\n",
              "397  397        0    50    20000     Si\n",
              "398  398        1    36    33000     No\n",
              "399  399        0    49    36000     Si\n",
              "\n",
              "[400 rows x 5 columns]"
            ]
          },
          "metadata": {},
          "execution_count": 4
        }
      ]
    },
    {
      "cell_type": "markdown",
      "metadata": {
        "id": "mGlGYvLsApqF"
      },
      "source": [
        "El dataframe contiene 5 variables y 400 observaciones.\n",
        "\n",
        "Las variables indican:\n",
        "- **ID:** La identificación del cliente\n",
        "- **Trabajo:** Corresponde 1 cuando es Dependiente y 0 cuando es Independiente\n",
        "- **Edad:** La edad del cliente\n",
        "- **Salario:** El salario estimado del cliente\n",
        "- **Compra:** Si, cuando el cliente ha comprado y no cuando no lo ha hecho."
      ]
    },
    {
      "cell_type": "markdown",
      "metadata": {
        "id": "UfOLTDkzIX0j"
      },
      "source": [
        "El problema a resolver es con los datos historicos (entrenamiento) predecir en virtud de las variables independientes, si un cliente va a efectuar una compra."
      ]
    },
    {
      "cell_type": "markdown",
      "metadata": {
        "id": "m9pwgoyGmBCW"
      },
      "source": [
        "### Selección de características"
      ]
    },
    {
      "cell_type": "code",
      "metadata": {
        "colab": {
          "base_uri": "https://localhost:8080/"
        },
        "id": "J_fVqk_Cx1Us",
        "outputId": "576bf587-9e03-480c-cc8c-f30ae11af543"
      },
      "source": [
        "clientes.info() #visualizacion de los tipos de datos del dataframe"
      ],
      "execution_count": null,
      "outputs": [
        {
          "output_type": "stream",
          "name": "stdout",
          "text": [
            "<class 'pandas.core.frame.DataFrame'>\n",
            "RangeIndex: 400 entries, 0 to 399\n",
            "Data columns (total 5 columns):\n",
            " #   Column   Non-Null Count  Dtype \n",
            "---  ------   --------------  ----- \n",
            " 0   ID       400 non-null    int64 \n",
            " 1   Trabajo  400 non-null    int64 \n",
            " 2   Edad     400 non-null    int64 \n",
            " 3   Salario  400 non-null    int64 \n",
            " 4   Compra   400 non-null    object\n",
            "dtypes: int64(4), object(1)\n",
            "memory usage: 15.8+ KB\n"
          ]
        }
      ]
    },
    {
      "cell_type": "markdown",
      "metadata": {
        "id": "6ch0bbKbbXks"
      },
      "source": [
        "Podemos constatar que no hay valores nulos, ya que todas las columnas tienen la misma cantidad de datos, pero lo que no podemos constatar es si hay valores duplicados..."
      ]
    },
    {
      "cell_type": "markdown",
      "metadata": {
        "id": "Yw_xxDIsbk85"
      },
      "source": [
        "Ahora vamos a eliminar la variable o columna que no es pertinente para el problema planteado..."
      ]
    },
    {
      "cell_type": "code",
      "metadata": {
        "colab": {
          "base_uri": "https://localhost:8080/"
        },
        "id": "fyBcty2lb1Pn",
        "outputId": "d49883f1-bbce-420c-8d4b-b457fcfa16db"
      },
      "source": [
        "clientes.drop_duplicates(inplace=True)\n",
        "clientes.shape"
      ],
      "execution_count": null,
      "outputs": [
        {
          "output_type": "execute_result",
          "data": {
            "text/plain": [
              "(400, 5)"
            ]
          },
          "metadata": {},
          "execution_count": 6
        }
      ]
    },
    {
      "cell_type": "code",
      "metadata": {
        "colab": {
          "base_uri": "https://localhost:8080/",
          "height": 419
        },
        "id": "fKOzrvcsmDwR",
        "outputId": "89ee98d0-9537-41cd-d1df-4b34ad936ebe"
      },
      "source": [
        "clientes = clientes.drop(columns=[\"ID\"]) #se elimina la variable no relevante\n",
        "clientes #vista del dataframe"
      ],
      "execution_count": null,
      "outputs": [
        {
          "output_type": "execute_result",
          "data": {
            "text/html": [
              "<div>\n",
              "<style scoped>\n",
              "    .dataframe tbody tr th:only-of-type {\n",
              "        vertical-align: middle;\n",
              "    }\n",
              "\n",
              "    .dataframe tbody tr th {\n",
              "        vertical-align: top;\n",
              "    }\n",
              "\n",
              "    .dataframe thead th {\n",
              "        text-align: right;\n",
              "    }\n",
              "</style>\n",
              "<table border=\"1\" class=\"dataframe\">\n",
              "  <thead>\n",
              "    <tr style=\"text-align: right;\">\n",
              "      <th></th>\n",
              "      <th>Trabajo</th>\n",
              "      <th>Edad</th>\n",
              "      <th>Salario</th>\n",
              "      <th>Compra</th>\n",
              "    </tr>\n",
              "  </thead>\n",
              "  <tbody>\n",
              "    <tr>\n",
              "      <th>0</th>\n",
              "      <td>1</td>\n",
              "      <td>19</td>\n",
              "      <td>19000</td>\n",
              "      <td>No</td>\n",
              "    </tr>\n",
              "    <tr>\n",
              "      <th>1</th>\n",
              "      <td>1</td>\n",
              "      <td>35</td>\n",
              "      <td>20000</td>\n",
              "      <td>No</td>\n",
              "    </tr>\n",
              "    <tr>\n",
              "      <th>2</th>\n",
              "      <td>0</td>\n",
              "      <td>26</td>\n",
              "      <td>43000</td>\n",
              "      <td>No</td>\n",
              "    </tr>\n",
              "    <tr>\n",
              "      <th>3</th>\n",
              "      <td>0</td>\n",
              "      <td>27</td>\n",
              "      <td>57000</td>\n",
              "      <td>No</td>\n",
              "    </tr>\n",
              "    <tr>\n",
              "      <th>4</th>\n",
              "      <td>1</td>\n",
              "      <td>19</td>\n",
              "      <td>76000</td>\n",
              "      <td>No</td>\n",
              "    </tr>\n",
              "    <tr>\n",
              "      <th>...</th>\n",
              "      <td>...</td>\n",
              "      <td>...</td>\n",
              "      <td>...</td>\n",
              "      <td>...</td>\n",
              "    </tr>\n",
              "    <tr>\n",
              "      <th>395</th>\n",
              "      <td>0</td>\n",
              "      <td>46</td>\n",
              "      <td>41000</td>\n",
              "      <td>Si</td>\n",
              "    </tr>\n",
              "    <tr>\n",
              "      <th>396</th>\n",
              "      <td>1</td>\n",
              "      <td>51</td>\n",
              "      <td>23000</td>\n",
              "      <td>Si</td>\n",
              "    </tr>\n",
              "    <tr>\n",
              "      <th>397</th>\n",
              "      <td>0</td>\n",
              "      <td>50</td>\n",
              "      <td>20000</td>\n",
              "      <td>Si</td>\n",
              "    </tr>\n",
              "    <tr>\n",
              "      <th>398</th>\n",
              "      <td>1</td>\n",
              "      <td>36</td>\n",
              "      <td>33000</td>\n",
              "      <td>No</td>\n",
              "    </tr>\n",
              "    <tr>\n",
              "      <th>399</th>\n",
              "      <td>0</td>\n",
              "      <td>49</td>\n",
              "      <td>36000</td>\n",
              "      <td>Si</td>\n",
              "    </tr>\n",
              "  </tbody>\n",
              "</table>\n",
              "<p>400 rows × 4 columns</p>\n",
              "</div>"
            ],
            "text/plain": [
              "     Trabajo  Edad  Salario Compra\n",
              "0          1    19    19000     No\n",
              "1          1    35    20000     No\n",
              "2          0    26    43000     No\n",
              "3          0    27    57000     No\n",
              "4          1    19    76000     No\n",
              "..       ...   ...      ...    ...\n",
              "395        0    46    41000     Si\n",
              "396        1    51    23000     Si\n",
              "397        0    50    20000     Si\n",
              "398        1    36    33000     No\n",
              "399        0    49    36000     Si\n",
              "\n",
              "[400 rows x 4 columns]"
            ]
          },
          "metadata": {},
          "execution_count": 7
        }
      ]
    },
    {
      "cell_type": "markdown",
      "metadata": {
        "id": "crCB2GKRCT9b"
      },
      "source": [
        "## División del dataframe"
      ]
    },
    {
      "cell_type": "markdown",
      "metadata": {
        "id": "A26PerQ0CbHR"
      },
      "source": [
        "Primero se divide el dataframe en variable objetivo $y$ con la columna que contiene los datos etiquetados por un lado, y en vector de entrada de los datos $X=$ con las variables restantes (variables independientes). "
      ]
    },
    {
      "cell_type": "code",
      "metadata": {
        "id": "Nvwqcrp-uhAX"
      },
      "source": [
        "y = clientes[\"Compra\"] #se define la variable objetivo\n",
        "X = clientes.drop(columns=[\"Compra\"]) #se elimina la variable objetivo del vector de entrada"
      ],
      "execution_count": null,
      "outputs": []
    },
    {
      "cell_type": "code",
      "metadata": {
        "colab": {
          "base_uri": "https://localhost:8080/"
        },
        "id": "7f7Pd-LJ_YZm",
        "outputId": "df714c1f-ac3b-4441-cef3-113c67182ebd"
      },
      "source": [
        "y #visualizando la variable objetivo"
      ],
      "execution_count": null,
      "outputs": [
        {
          "output_type": "execute_result",
          "data": {
            "text/plain": [
              "0      No\n",
              "1      No\n",
              "2      No\n",
              "3      No\n",
              "4      No\n",
              "       ..\n",
              "395    Si\n",
              "396    Si\n",
              "397    Si\n",
              "398    No\n",
              "399    Si\n",
              "Name: Compra, Length: 400, dtype: object"
            ]
          },
          "metadata": {},
          "execution_count": 9
        }
      ]
    },
    {
      "cell_type": "code",
      "metadata": {
        "colab": {
          "base_uri": "https://localhost:8080/",
          "height": 419
        },
        "id": "_hg4v197_bf_",
        "outputId": "d9ed9f12-7b98-40e9-f811-6fd5be387677"
      },
      "source": [
        "X #visualizando el vector de entrada"
      ],
      "execution_count": null,
      "outputs": [
        {
          "output_type": "execute_result",
          "data": {
            "text/html": [
              "<div>\n",
              "<style scoped>\n",
              "    .dataframe tbody tr th:only-of-type {\n",
              "        vertical-align: middle;\n",
              "    }\n",
              "\n",
              "    .dataframe tbody tr th {\n",
              "        vertical-align: top;\n",
              "    }\n",
              "\n",
              "    .dataframe thead th {\n",
              "        text-align: right;\n",
              "    }\n",
              "</style>\n",
              "<table border=\"1\" class=\"dataframe\">\n",
              "  <thead>\n",
              "    <tr style=\"text-align: right;\">\n",
              "      <th></th>\n",
              "      <th>Trabajo</th>\n",
              "      <th>Edad</th>\n",
              "      <th>Salario</th>\n",
              "    </tr>\n",
              "  </thead>\n",
              "  <tbody>\n",
              "    <tr>\n",
              "      <th>0</th>\n",
              "      <td>1</td>\n",
              "      <td>19</td>\n",
              "      <td>19000</td>\n",
              "    </tr>\n",
              "    <tr>\n",
              "      <th>1</th>\n",
              "      <td>1</td>\n",
              "      <td>35</td>\n",
              "      <td>20000</td>\n",
              "    </tr>\n",
              "    <tr>\n",
              "      <th>2</th>\n",
              "      <td>0</td>\n",
              "      <td>26</td>\n",
              "      <td>43000</td>\n",
              "    </tr>\n",
              "    <tr>\n",
              "      <th>3</th>\n",
              "      <td>0</td>\n",
              "      <td>27</td>\n",
              "      <td>57000</td>\n",
              "    </tr>\n",
              "    <tr>\n",
              "      <th>4</th>\n",
              "      <td>1</td>\n",
              "      <td>19</td>\n",
              "      <td>76000</td>\n",
              "    </tr>\n",
              "    <tr>\n",
              "      <th>...</th>\n",
              "      <td>...</td>\n",
              "      <td>...</td>\n",
              "      <td>...</td>\n",
              "    </tr>\n",
              "    <tr>\n",
              "      <th>395</th>\n",
              "      <td>0</td>\n",
              "      <td>46</td>\n",
              "      <td>41000</td>\n",
              "    </tr>\n",
              "    <tr>\n",
              "      <th>396</th>\n",
              "      <td>1</td>\n",
              "      <td>51</td>\n",
              "      <td>23000</td>\n",
              "    </tr>\n",
              "    <tr>\n",
              "      <th>397</th>\n",
              "      <td>0</td>\n",
              "      <td>50</td>\n",
              "      <td>20000</td>\n",
              "    </tr>\n",
              "    <tr>\n",
              "      <th>398</th>\n",
              "      <td>1</td>\n",
              "      <td>36</td>\n",
              "      <td>33000</td>\n",
              "    </tr>\n",
              "    <tr>\n",
              "      <th>399</th>\n",
              "      <td>0</td>\n",
              "      <td>49</td>\n",
              "      <td>36000</td>\n",
              "    </tr>\n",
              "  </tbody>\n",
              "</table>\n",
              "<p>400 rows × 3 columns</p>\n",
              "</div>"
            ],
            "text/plain": [
              "     Trabajo  Edad  Salario\n",
              "0          1    19    19000\n",
              "1          1    35    20000\n",
              "2          0    26    43000\n",
              "3          0    27    57000\n",
              "4          1    19    76000\n",
              "..       ...   ...      ...\n",
              "395        0    46    41000\n",
              "396        1    51    23000\n",
              "397        0    50    20000\n",
              "398        1    36    33000\n",
              "399        0    49    36000\n",
              "\n",
              "[400 rows x 3 columns]"
            ]
          },
          "metadata": {},
          "execution_count": 10
        }
      ]
    },
    {
      "cell_type": "markdown",
      "metadata": {
        "id": "9IrwX_uFDGx-"
      },
      "source": [
        "Ahora se divide la variable objetivo $y$ en un conjunto de datos de entrenamiento (train) y prueba (test). Lo mismo se realiza para el vector de entrada de los datos $X$."
      ]
    },
    {
      "cell_type": "code",
      "metadata": {
        "id": "XrdqmL0-u8or"
      },
      "source": [
        "from sklearn.model_selection import train_test_split"
      ],
      "execution_count": null,
      "outputs": []
    },
    {
      "cell_type": "code",
      "metadata": {
        "id": "IgBKNGAcw1p2"
      },
      "source": [
        "X_train, X_test, y_train, y_test = train_test_split(X, y, test_size = 0.25, random_state = 0)"
      ],
      "execution_count": null,
      "outputs": []
    },
    {
      "cell_type": "markdown",
      "metadata": {
        "id": "0cmVYFe3BHw2"
      },
      "source": [
        "La proporcion es 75% para entrenamiento y 25% para prueba"
      ]
    },
    {
      "cell_type": "code",
      "metadata": {
        "colab": {
          "base_uri": "https://localhost:8080/"
        },
        "id": "4sibfQYdBcws",
        "outputId": "3dc7c1c4-e055-4f6e-9aea-d3beaa08b873"
      },
      "source": [
        "X_train.shape"
      ],
      "execution_count": null,
      "outputs": [
        {
          "output_type": "execute_result",
          "data": {
            "text/plain": [
              "(300, 3)"
            ]
          },
          "metadata": {},
          "execution_count": 13
        }
      ]
    },
    {
      "cell_type": "markdown",
      "metadata": {
        "id": "0WSOeO_EBj3F"
      },
      "source": [
        "De las 400 observaciones del vector de entrada de datos, 300 observaciones son de entrenamiento"
      ]
    },
    {
      "cell_type": "code",
      "metadata": {
        "colab": {
          "base_uri": "https://localhost:8080/"
        },
        "id": "9OJYo67mBwjN",
        "outputId": "5c438ffd-b0bf-48f1-b060-f7207efd5770"
      },
      "source": [
        "X_test.shape"
      ],
      "execution_count": null,
      "outputs": [
        {
          "output_type": "execute_result",
          "data": {
            "text/plain": [
              "(100, 3)"
            ]
          },
          "metadata": {},
          "execution_count": 14
        }
      ]
    },
    {
      "cell_type": "markdown",
      "metadata": {
        "id": "_hpk7iQKB6ez"
      },
      "source": [
        "De las 400 observaciones del vector de entrada de datos, 100 observaciones son de prueba"
      ]
    },
    {
      "cell_type": "code",
      "metadata": {
        "colab": {
          "base_uri": "https://localhost:8080/"
        },
        "id": "OcBHkwag3Oq0",
        "outputId": "368d6214-b41c-40ae-f9a9-c82fe79a160d"
      },
      "source": [
        "y_train.shape"
      ],
      "execution_count": null,
      "outputs": [
        {
          "output_type": "execute_result",
          "data": {
            "text/plain": [
              "(300,)"
            ]
          },
          "metadata": {},
          "execution_count": 15
        }
      ]
    },
    {
      "cell_type": "markdown",
      "metadata": {
        "id": "MteaPy8I3fhh"
      },
      "source": [
        "De las 400 observaciones de la variable objetivo, 300 observaciones son de entrenamiento"
      ]
    },
    {
      "cell_type": "code",
      "metadata": {
        "colab": {
          "base_uri": "https://localhost:8080/"
        },
        "id": "ZYqcJTvD3W4S",
        "outputId": "b535c872-d761-4b41-a460-f7c4e3cd3a0d"
      },
      "source": [
        "y_test.shape"
      ],
      "execution_count": null,
      "outputs": [
        {
          "output_type": "execute_result",
          "data": {
            "text/plain": [
              "(100,)"
            ]
          },
          "metadata": {},
          "execution_count": 16
        }
      ]
    },
    {
      "cell_type": "markdown",
      "metadata": {
        "id": "2S-NsuSw3yon"
      },
      "source": [
        "De las 400 observaciones de la variable objetivo, 100 observaciones son de prueba"
      ]
    },
    {
      "cell_type": "markdown",
      "metadata": {
        "id": "gc4re0JIZ_jK"
      },
      "source": [
        "## Escala del vector de entrada"
      ]
    },
    {
      "cell_type": "code",
      "metadata": {
        "id": "YpkI3xpRaLch"
      },
      "source": [
        "#from sklearn.preprocessing import StandardScaler"
      ],
      "execution_count": null,
      "outputs": []
    },
    {
      "cell_type": "code",
      "metadata": {
        "id": "b1G83_Fqao_P"
      },
      "source": [
        "#normalizacion = StandardScaler()"
      ],
      "execution_count": null,
      "outputs": []
    },
    {
      "cell_type": "code",
      "metadata": {
        "id": "dzft3gi_ayhh"
      },
      "source": [
        "#X_train = normalizacion.fit_transform(X_train)\n",
        "#X_test = normalizacion.transform(X_test)"
      ],
      "execution_count": null,
      "outputs": []
    },
    {
      "cell_type": "markdown",
      "metadata": {
        "id": "VXdYvT5txgGo"
      },
      "source": [
        "# Evaluando los Algoritmos"
      ]
    },
    {
      "cell_type": "markdown",
      "metadata": {
        "id": "vfO8Tre1xx8p"
      },
      "source": [
        "## Algoritmo Árbol de Decisión"
      ]
    },
    {
      "cell_type": "code",
      "metadata": {
        "id": "aLXzWkJKyo0M"
      },
      "source": [
        "from sklearn import tree"
      ],
      "execution_count": null,
      "outputs": []
    },
    {
      "cell_type": "code",
      "metadata": {
        "id": "qQfG8fS5xi95"
      },
      "source": [
        "ad = sklearn.tree.DecisionTreeClassifier(criterion = \"entropy\", random_state = 100, max_depth=2)"
      ],
      "execution_count": null,
      "outputs": []
    },
    {
      "cell_type": "code",
      "metadata": {
        "colab": {
          "base_uri": "https://localhost:8080/"
        },
        "id": "M6A343WRyhZH",
        "outputId": "92032064-46d5-4af6-ad86-fefe0ee1b817"
      },
      "source": [
        "ad.fit(X_train, y_train)"
      ],
      "execution_count": null,
      "outputs": [
        {
          "output_type": "execute_result",
          "data": {
            "text/plain": [
              "DecisionTreeClassifier(criterion='entropy', max_depth=2, random_state=100)"
            ]
          },
          "metadata": {},
          "execution_count": 22
        }
      ]
    },
    {
      "cell_type": "code",
      "metadata": {
        "id": "PAe5WMhAy8p5"
      },
      "source": [
        "y_pred_ad = ad.predict(X_test)"
      ],
      "execution_count": null,
      "outputs": []
    },
    {
      "cell_type": "code",
      "metadata": {
        "colab": {
          "base_uri": "https://localhost:8080/"
        },
        "id": "Kt_rJ9V_ziOk",
        "outputId": "5570ee17-5c72-474b-e3dc-caa1365a97fd"
      },
      "source": [
        "mc = metrics.confusion_matrix(y_test, y_pred_ad)\n",
        "print(mc)"
      ],
      "execution_count": null,
      "outputs": [
        {
          "output_type": "stream",
          "name": "stdout",
          "text": [
            "[[64  4]\n",
            " [ 2 30]]\n"
          ]
        }
      ]
    },
    {
      "cell_type": "code",
      "metadata": {
        "colab": {
          "base_uri": "https://localhost:8080/",
          "height": 350
        },
        "id": "Q5RcAmNWJetB",
        "outputId": "5e365483-827c-4160-c931-9cb448e4226c"
      },
      "source": [
        "metrics.plot_confusion_matrix(ad,X_test,y_test)"
      ],
      "execution_count": null,
      "outputs": [
        {
          "output_type": "stream",
          "name": "stderr",
          "text": [
            "/usr/local/lib/python3.7/dist-packages/sklearn/utils/deprecation.py:87: FutureWarning: Function plot_confusion_matrix is deprecated; Function `plot_confusion_matrix` is deprecated in 1.0 and will be removed in 1.2. Use one of the class methods: ConfusionMatrixDisplay.from_predictions or ConfusionMatrixDisplay.from_estimator.\n",
            "  warnings.warn(msg, category=FutureWarning)\n"
          ]
        },
        {
          "output_type": "execute_result",
          "data": {
            "text/plain": [
              "<sklearn.metrics._plot.confusion_matrix.ConfusionMatrixDisplay at 0x7f8ee1517090>"
            ]
          },
          "metadata": {},
          "execution_count": 25
        },
        {
          "output_type": "display_data",
          "data": {
            "image/png": "[encoded data removed]",
            "text/plain": [
              "<Figure size 432x288 with 2 Axes>"
            ]
          },
          "metadata": {
            "needs_background": "light"
          }
        }
      ]
    },
    {
      "cell_type": "code",
      "metadata": {
        "colab": {
          "base_uri": "https://localhost:8080/",
          "height": 350
        },
        "id": "vC0iwZ4lOHPk",
        "outputId": "6f47e644-4643-4ad3-a907-039dbeb147e7"
      },
      "source": [
        "metrics.plot_roc_curve(ad, X_test, y_test)"
      ],
      "execution_count": null,
      "outputs": [
        {
          "output_type": "stream",
          "name": "stderr",
          "text": [
            "/usr/local/lib/python3.7/dist-packages/sklearn/utils/deprecation.py:87: FutureWarning: Function plot_roc_curve is deprecated; Function `plot_roc_curve` is deprecated in 1.0 and will be removed in 1.2. Use one of the class methods: RocCurveDisplay.from_predictions or RocCurveDisplay.from_estimator.\n",
            "  warnings.warn(msg, category=FutureWarning)\n"
          ]
        },
        {
          "output_type": "execute_result",
          "data": {
            "text/plain": [
              "<sklearn.metrics._plot.roc_curve.RocCurveDisplay at 0x7f8edd9c71d0>"
            ]
          },
          "metadata": {},
          "execution_count": 26
        },
        {
          "output_type": "display_data",
          "data": {
            "image/png": "[encoded data removed]",
            "text/plain": [
              "<Figure size 432x288 with 1 Axes>"
            ]
          },
          "metadata": {
            "needs_background": "light"
          }
        }
      ]
    },
    {
      "cell_type": "code",
      "metadata": {
        "id": "BIa28_LWzuAO",
        "colab": {
          "base_uri": "https://localhost:8080/"
        },
        "outputId": "b174eaa2-26e3-4c88-9569-b7fa9d30e24c"
      },
      "source": [
        "reporte = metrics.classification_report(y_test, y_pred_ad)\n",
        "print(reporte)"
      ],
      "execution_count": null,
      "outputs": [
        {
          "output_type": "stream",
          "name": "stdout",
          "text": [
            "              precision    recall  f1-score   support\n",
            "\n",
            "          No       0.97      0.94      0.96        68\n",
            "          Si       0.88      0.94      0.91        32\n",
            "\n",
            "    accuracy                           0.94       100\n",
            "   macro avg       0.93      0.94      0.93       100\n",
            "weighted avg       0.94      0.94      0.94       100\n",
            "\n"
          ]
        }
      ]
    },
    {
      "cell_type": "code",
      "metadata": {
        "colab": {
          "base_uri": "https://localhost:8080/",
          "height": 350
        },
        "id": "LifVIMvYK8zM",
        "outputId": "bab19fb7-3703-4179-e970-7bbc465bc80f"
      },
      "source": [
        "metrics.plot_precision_recall_curve(ad,X_test,y_test)"
      ],
      "execution_count": null,
      "outputs": [
        {
          "output_type": "stream",
          "name": "stderr",
          "text": [
            "/usr/local/lib/python3.7/dist-packages/sklearn/utils/deprecation.py:87: FutureWarning: Function plot_precision_recall_curve is deprecated; Function `plot_precision_recall_curve` is deprecated in 1.0 and will be removed in 1.2. Use one of the class methods: PrecisionRecallDisplay.from_predictions or PrecisionRecallDisplay.from_estimator.\n",
            "  warnings.warn(msg, category=FutureWarning)\n"
          ]
        },
        {
          "output_type": "execute_result",
          "data": {
            "text/plain": [
              "<sklearn.metrics._plot.precision_recall_curve.PrecisionRecallDisplay at 0x7f8edd4615d0>"
            ]
          },
          "metadata": {},
          "execution_count": 28
        },
        {
          "output_type": "display_data",
          "data": {
            "image/png": "[encoded data removed]",
            "text/plain": [
              "<Figure size 432x288 with 1 Axes>"
            ]
          },
          "metadata": {
            "needs_background": "light"
          }
        }
      ]
    },
    {
      "cell_type": "markdown",
      "metadata": {
        "id": "NrlOyYyq2MRY"
      },
      "source": [
        "### Guardando el modelo"
      ]
    },
    {
      "cell_type": "code",
      "metadata": {
        "colab": {
          "base_uri": "https://localhost:8080/"
        },
        "id": "NoQlJBk2VQQA",
        "outputId": "0217ebd8-f092-4a55-a9f9-d0a87c56cd11"
      },
      "source": [
        "from google.colab import drive\n",
        "drive.mount('/content/drive')"
      ],
      "execution_count": null,
      "outputs": [
        {
          "output_type": "stream",
          "name": "stdout",
          "text": [
            "Drive already mounted at /content/drive; to attempt to forcibly remount, call drive.mount(\"/content/drive\", force_remount=True).\n"
          ]
        }
      ]
    },
    {
      "cell_type": "code",
      "metadata": {
        "id": "mTBWjYULdrNR"
      },
      "source": [
        "path = os.getcwd() + \"/drive/MyDrive/Modelos/modelo_arbol_decision.pkl\""
      ],
      "execution_count": null,
      "outputs": []
    },
    {
      "cell_type": "code",
      "metadata": {
        "id": "-1_dRxaj2RjG"
      },
      "source": [
        "file = open(path, \"wb\")\n",
        "pickle.dump(ad, file)"
      ],
      "execution_count": null,
      "outputs": []
    },
    {
      "cell_type": "markdown",
      "metadata": {
        "id": "uuah5B172plL"
      },
      "source": [
        "### Leyendo el modelo"
      ]
    },
    {
      "cell_type": "code",
      "metadata": {
        "id": "VGrH8NT52yMi"
      },
      "source": [
        "file = open(path, \"rb\")\n",
        "modelo_ad = pickle.load(file)"
      ],
      "execution_count": null,
      "outputs": []
    },
    {
      "cell_type": "markdown",
      "metadata": {
        "id": "WTGxHxE09OBh"
      },
      "source": [
        "### Visualización Árbol de Decisión"
      ]
    },
    {
      "cell_type": "code",
      "metadata": {
        "id": "_a2Gc2qA9M-4"
      },
      "source": [
        "variables = [\"Trabajo\",\"Edad\",\"Salario\"]\n",
        "compra = [\"No\",\"Si\"]"
      ],
      "execution_count": null,
      "outputs": []
    },
    {
      "cell_type": "code",
      "metadata": {
        "colab": {
          "base_uri": "https://localhost:8080/",
          "height": 585
        },
        "id": "Xumh0c8p9dx8",
        "outputId": "aa818c1f-6876-43ce-9a0f-757c496cad21"
      },
      "source": [
        "fig, ax = plt.subplots(figsize=(8, 8))\n",
        "tree.plot_tree(modelo_ad, feature_names = variables, class_names= compra, ax=ax)"
      ],
      "execution_count": null,
      "outputs": [
        {
          "output_type": "execute_result",
          "data": {
            "text/plain": [
              "[Text(223.2, 362.4, 'Edad <= 44.5\\nentropy = 0.951\\nsamples = 300\\nvalue = [189, 111]\\nclass = No'),\n",
              " Text(111.6, 217.44, 'Salario <= 90500.0\\nentropy = 0.693\\nsamples = 215\\nvalue = [175, 40]\\nclass = No'),\n",
              " Text(55.8, 72.47999999999996, 'entropy = 0.241\\nsamples = 176\\nvalue = [169, 7]\\nclass = No'),\n",
              " Text(167.39999999999998, 72.47999999999996, 'entropy = 0.619\\nsamples = 39\\nvalue = [6, 33]\\nclass = Si'),\n",
              " Text(334.79999999999995, 217.44, 'Salario <= 41500.0\\nentropy = 0.645\\nsamples = 85\\nvalue = [14, 71]\\nclass = Si'),\n",
              " Text(279.0, 72.47999999999996, 'entropy = 0.211\\nsamples = 30\\nvalue = [1, 29]\\nclass = Si'),\n",
              " Text(390.59999999999997, 72.47999999999996, 'entropy = 0.789\\nsamples = 55\\nvalue = [13, 42]\\nclass = Si')]"
            ]
          },
          "metadata": {},
          "execution_count": 34
        },
        {
          "output_type": "display_data",
          "data": {
            "image/png": "[encoded data removed]",
            "text/plain": [
              "<Figure size 576x576 with 1 Axes>"
            ]
          },
          "metadata": {
            "needs_background": "light"
          }
        }
      ]
    },
    {
      "cell_type": "markdown",
      "metadata": {
        "id": "FXYhfkGz23e-"
      },
      "source": [
        "### Predicción"
      ]
    },
    {
      "cell_type": "code",
      "metadata": {
        "id": "eJZJCUEz27c9",
        "colab": {
          "base_uri": "https://localhost:8080/"
        },
        "outputId": "da0cbdf6-78f5-40a3-c59e-3a7aec5af2b8"
      },
      "source": [
        "prediccion_ad = modelo_ad.predict([[1,24,19000],[0,24,91000],[1,45,19000]])"
      ],
      "execution_count": null,
      "outputs": [
        {
          "output_type": "stream",
          "name": "stderr",
          "text": [
            "/usr/local/lib/python3.7/dist-packages/sklearn/base.py:446: UserWarning: X does not have valid feature names, but DecisionTreeClassifier was fitted with feature names\n",
            "  \"X does not have valid feature names, but\"\n"
          ]
        }
      ]
    },
    {
      "cell_type": "code",
      "metadata": {
        "colab": {
          "base_uri": "https://localhost:8080/"
        },
        "id": "-lsq3dn03Avw",
        "outputId": "e267340b-73fe-4956-9651-a7a711f473ff"
      },
      "source": [
        "print(prediccion_ad)"
      ],
      "execution_count": null,
      "outputs": [
        {
          "output_type": "stream",
          "name": "stdout",
          "text": [
            "['No' 'Si' 'Si']\n"
          ]
        }
      ]
    },
    {
      "cell_type": "code",
      "metadata": {
        "colab": {
          "base_uri": "https://localhost:8080/",
          "height": 419
        },
        "id": "y7INrMVv28pd",
        "outputId": "f096d1a1-2a11-4177-8bb4-38bd39eb61ef"
      },
      "source": [
        "X_test"
      ],
      "execution_count": null,
      "outputs": [
        {
          "output_type": "execute_result",
          "data": {
            "text/html": [
              "<div>\n",
              "<style scoped>\n",
              "    .dataframe tbody tr th:only-of-type {\n",
              "        vertical-align: middle;\n",
              "    }\n",
              "\n",
              "    .dataframe tbody tr th {\n",
              "        vertical-align: top;\n",
              "    }\n",
              "\n",
              "    .dataframe thead th {\n",
              "        text-align: right;\n",
              "    }\n",
              "</style>\n",
              "<table border=\"1\" class=\"dataframe\">\n",
              "  <thead>\n",
              "    <tr style=\"text-align: right;\">\n",
              "      <th></th>\n",
              "      <th>Trabajo</th>\n",
              "      <th>Edad</th>\n",
              "      <th>Salario</th>\n",
              "    </tr>\n",
              "  </thead>\n",
              "  <tbody>\n",
              "    <tr>\n",
              "      <th>132</th>\n",
              "      <td>1</td>\n",
              "      <td>30</td>\n",
              "      <td>87000</td>\n",
              "    </tr>\n",
              "    <tr>\n",
              "      <th>309</th>\n",
              "      <td>0</td>\n",
              "      <td>38</td>\n",
              "      <td>50000</td>\n",
              "    </tr>\n",
              "    <tr>\n",
              "      <th>341</th>\n",
              "      <td>1</td>\n",
              "      <td>35</td>\n",
              "      <td>75000</td>\n",
              "    </tr>\n",
              "    <tr>\n",
              "      <th>196</th>\n",
              "      <td>0</td>\n",
              "      <td>30</td>\n",
              "      <td>79000</td>\n",
              "    </tr>\n",
              "    <tr>\n",
              "      <th>246</th>\n",
              "      <td>0</td>\n",
              "      <td>35</td>\n",
              "      <td>50000</td>\n",
              "    </tr>\n",
              "    <tr>\n",
              "      <th>...</th>\n",
              "      <td>...</td>\n",
              "      <td>...</td>\n",
              "      <td>...</td>\n",
              "    </tr>\n",
              "    <tr>\n",
              "      <th>146</th>\n",
              "      <td>0</td>\n",
              "      <td>27</td>\n",
              "      <td>96000</td>\n",
              "    </tr>\n",
              "    <tr>\n",
              "      <th>135</th>\n",
              "      <td>1</td>\n",
              "      <td>23</td>\n",
              "      <td>63000</td>\n",
              "    </tr>\n",
              "    <tr>\n",
              "      <th>390</th>\n",
              "      <td>1</td>\n",
              "      <td>48</td>\n",
              "      <td>33000</td>\n",
              "    </tr>\n",
              "    <tr>\n",
              "      <th>264</th>\n",
              "      <td>1</td>\n",
              "      <td>48</td>\n",
              "      <td>90000</td>\n",
              "    </tr>\n",
              "    <tr>\n",
              "      <th>364</th>\n",
              "      <td>1</td>\n",
              "      <td>42</td>\n",
              "      <td>104000</td>\n",
              "    </tr>\n",
              "  </tbody>\n",
              "</table>\n",
              "<p>100 rows × 3 columns</p>\n",
              "</div>"
            ],
            "text/plain": [
              "     Trabajo  Edad  Salario\n",
              "132        1    30    87000\n",
              "309        0    38    50000\n",
              "341        1    35    75000\n",
              "196        0    30    79000\n",
              "246        0    35    50000\n",
              "..       ...   ...      ...\n",
              "146        0    27    96000\n",
              "135        1    23    63000\n",
              "390        1    48    33000\n",
              "264        1    48    90000\n",
              "364        1    42   104000\n",
              "\n",
              "[100 rows x 3 columns]"
            ]
          },
          "metadata": {},
          "execution_count": 37
        }
      ]
    },
    {
      "cell_type": "code",
      "metadata": {
        "id": "En2fzW2P2lbs"
      },
      "source": [
        "prediccion_ad_2 = modelo_ad.predict(X_test)"
      ],
      "execution_count": null,
      "outputs": []
    },
    {
      "cell_type": "code",
      "metadata": {
        "colab": {
          "base_uri": "https://localhost:8080/"
        },
        "id": "2bsSP54h2yKv",
        "outputId": "8e2df92e-aba7-4796-c682-e166b810391c"
      },
      "source": [
        "print(prediccion_ad_2)"
      ],
      "execution_count": null,
      "outputs": [
        {
          "output_type": "stream",
          "name": "stdout",
          "text": [
            "['No' 'No' 'No' 'No' 'No' 'No' 'No' 'Si' 'No' 'Si' 'No' 'No' 'No' 'No'\n",
            " 'No' 'Si' 'No' 'No' 'Si' 'No' 'No' 'Si' 'No' 'Si' 'No' 'Si' 'No' 'No'\n",
            " 'No' 'No' 'No' 'No' 'Si' 'No' 'No' 'No' 'No' 'No' 'No' 'Si' 'No' 'No'\n",
            " 'No' 'No' 'Si' 'No' 'No' 'Si' 'No' 'Si' 'Si' 'No' 'No' 'Si' 'Si' 'Si'\n",
            " 'No' 'No' 'Si' 'No' 'No' 'Si' 'No' 'Si' 'No' 'Si' 'No' 'No' 'No' 'No'\n",
            " 'Si' 'No' 'No' 'Si' 'No' 'No' 'No' 'No' 'Si' 'Si' 'Si' 'Si' 'No' 'No'\n",
            " 'Si' 'No' 'No' 'Si' 'Si' 'No' 'No' 'Si' 'No' 'No' 'No' 'Si' 'No' 'Si'\n",
            " 'Si' 'Si']\n"
          ]
        }
      ]
    },
    {
      "cell_type": "markdown",
      "metadata": {
        "id": "Nu6P3InmaNqL"
      },
      "source": [
        "![UNI](https://posgrado.uni.edu.ni/wp-content/uploads/2017/02/logo_opt-2.png)"
      ]
    }
  ]
}