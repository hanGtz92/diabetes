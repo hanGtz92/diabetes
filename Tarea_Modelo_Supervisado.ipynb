{
  "nbformat": 4,
  "nbformat_minor": 0,
  "metadata": {
    "colab": {
      "name": "Tarea Modelo Supervisado.ipynb",
      "provenance": [],
      "authorship_tag": "ABX9TyNbIApMhQ+2ewSmPaNZH4Ph",
      "include_colab_link": true
    },
    "kernelspec": {
      "name": "python3",
      "display_name": "Python 3"
    },
    "language_info": {
      "name": "python"
    }
  },
  "cells": [
    {
      "cell_type": "markdown",
      "metadata": {
        "id": "view-in-github",
        "colab_type": "text"
      },
      "source": [
        "<a href=\"https://colab.research.google.com/github/hanGtz92/diabetes/blob/main/Tarea_Modelo_Supervisado.ipynb\" target=\"_parent\"><img src=\"https://colab.research.google.com/assets/colab-badge.svg\" alt=\"Open In Colab\"/></a>"
      ]
    },
    {
      "cell_type": "code",
      "metadata": {
        "id": "CQApF49pQeeX"
      },
      "source": [
        "import pandas as pd\n",
        "clientes = pd.read_csv(\"https://raw.githubusercontent.com/hanGtz92/diabetes/main/Diabetes.csv\") \n",
        "\n",
        "#Variable a Predecir\n",
        "y = clientes[\"Resultado\"]\n",
        "#Variables de Entrada\n",
        "X = clientes.drop(columns = [\"Resultado\"])"
      ],
      "execution_count": 4,
      "outputs": []
    },
    {
      "cell_type": "code",
      "metadata": {
        "id": "cZjxbLa1R4HM"
      },
      "source": [
        "from sklearn.model_selection import train_test_split\n",
        "\n",
        "#Se utiliza el metodo train_test_split para separar aletoriamente el set de datos en 75% para entrenamiento y 25% para pruebas\n",
        "X_train, X_test, y_train, y_test = train_test_split(X, y, test_size = 0.25, random_state = 0)"
      ],
      "execution_count": 5,
      "outputs": []
    }
  ]
}